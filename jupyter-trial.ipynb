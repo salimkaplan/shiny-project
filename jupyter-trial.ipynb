{
 "cells": [
  {
   "cell_type": "markdown",
   "id": "756192ff-c5fc-46e5-98aa-b230919ef81a",
   "metadata": {},
   "source": [
    "## This is an attempt to create a brand new notebook"
   ]
  },
  {
   "cell_type": "markdown",
   "id": "bdd8d261-8fed-483b-9c0d-9246dd38f54a",
   "metadata": {},
   "source": [
    "Following is a demonstration of nothing"
   ]
  },
  {
   "cell_type": "code",
   "execution_count": 4,
   "id": "d26cb1a8-4b43-410f-9054-ab6ac08ac5b6",
   "metadata": {},
   "outputs": [],
   "source": [
    "import pandas as pd\n",
    "import numpy as np"
   ]
  },
  {
   "cell_type": "code",
   "execution_count": 5,
   "id": "5c77c2e1-16d0-4f6a-865b-0ca4ee97c50e",
   "metadata": {},
   "outputs": [
    {
     "data": {
      "text/plain": [
       "array([ 1,  2,  6, 11])"
      ]
     },
     "execution_count": 5,
     "metadata": {},
     "output_type": "execute_result"
    }
   ],
   "source": [
    "np.array([1, 2, 6, 11])"
   ]
  },
  {
   "cell_type": "code",
   "execution_count": null,
   "id": "be81e7ff-e224-42a7-a534-27aedbc3d9ae",
   "metadata": {},
   "outputs": [],
   "source": []
  }
 ],
 "metadata": {
  "kernelspec": {
   "display_name": "Python 3 (ipykernel)",
   "language": "python",
   "name": "python3"
  },
  "language_info": {
   "codemirror_mode": {
    "name": "ipython",
    "version": 3
   },
   "file_extension": ".py",
   "mimetype": "text/x-python",
   "name": "python",
   "nbconvert_exporter": "python",
   "pygments_lexer": "ipython3",
   "version": "3.9.12"
  }
 },
 "nbformat": 4,
 "nbformat_minor": 5
}
